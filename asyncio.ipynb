{
 "cells": [
  {
   "cell_type": "code",
   "execution_count": 2,
   "id": "e0ebcf01-a3e3-47d8-a7f4-b497d533ee5d",
   "metadata": {},
   "outputs": [],
   "source": [
    "import asyncio\n",
    "import os"
   ]
  },
  {
   "cell_type": "code",
   "execution_count": 7,
   "id": "a6f84100-365d-4c84-989d-56e98c7d0d6b",
   "metadata": {},
   "outputs": [],
   "source": [
    "os.environ[\"PYTHONASYNCIODEBUG\"]='YES'"
   ]
  },
  {
   "cell_type": "markdown",
   "id": "dadd56d6-8650-4f4a-929c-83eeef17e9dd",
   "metadata": {},
   "source": [
    "### Try asyncio.run()"
   ]
  },
  {
   "cell_type": "markdown",
   "id": "c43af27c-1171-4ebd-868f-5f3c1fa109bd",
   "metadata": {},
   "source": [
    "#### Code is from here :\n",
    "https://realpython.com/async-io-python/"
   ]
  },
  {
   "cell_type": "code",
   "execution_count": 21,
   "id": "84be5997-bb1d-4e96-b07a-9fa36d5c4843",
   "metadata": {},
   "outputs": [
    {
     "ename": "RuntimeError",
     "evalue": "asyncio.run() cannot be called from a running event loop",
     "output_type": "error",
     "traceback": [
      "\u001b[1;31m---------------------------------------------------------------------------\u001b[0m",
      "\u001b[1;31mRuntimeError\u001b[0m                              Traceback (most recent call last)",
      "\u001b[1;32m~\\AppData\\Local\\Temp/ipykernel_25520/3437482675.py\u001b[0m in \u001b[0;36m<module>\u001b[1;34m\u001b[0m\n\u001b[0;32m     11\u001b[0m \u001b[1;32mimport\u001b[0m \u001b[0mtime\u001b[0m\u001b[1;33m\u001b[0m\u001b[1;33m\u001b[0m\u001b[0m\n\u001b[0;32m     12\u001b[0m \u001b[0ms\u001b[0m \u001b[1;33m=\u001b[0m \u001b[0mtime\u001b[0m\u001b[1;33m.\u001b[0m\u001b[0mperf_counter\u001b[0m\u001b[1;33m(\u001b[0m\u001b[1;33m)\u001b[0m\u001b[1;33m\u001b[0m\u001b[1;33m\u001b[0m\u001b[0m\n\u001b[1;32m---> 13\u001b[1;33m \u001b[0masyncio\u001b[0m\u001b[1;33m.\u001b[0m\u001b[0mrun\u001b[0m\u001b[1;33m(\u001b[0m\u001b[0mmain\u001b[0m\u001b[1;33m(\u001b[0m\u001b[1;33m)\u001b[0m\u001b[1;33m)\u001b[0m\u001b[1;33m\u001b[0m\u001b[1;33m\u001b[0m\u001b[0m\n\u001b[0m\u001b[0;32m     14\u001b[0m \u001b[0melapsed\u001b[0m \u001b[1;33m=\u001b[0m \u001b[0mtime\u001b[0m\u001b[1;33m.\u001b[0m\u001b[0mperf_counter\u001b[0m\u001b[1;33m(\u001b[0m\u001b[1;33m)\u001b[0m \u001b[1;33m-\u001b[0m \u001b[0ms\u001b[0m\u001b[1;33m\u001b[0m\u001b[1;33m\u001b[0m\u001b[0m\n\u001b[0;32m     15\u001b[0m \u001b[0mprint\u001b[0m\u001b[1;33m(\u001b[0m\u001b[1;34mf\" executed in {elapsed:0.2f} seconds.\"\u001b[0m\u001b[1;33m)\u001b[0m\u001b[1;33m\u001b[0m\u001b[1;33m\u001b[0m\u001b[0m\n",
      "\u001b[1;32m~\\anaconda3\\lib\\asyncio\\runners.py\u001b[0m in \u001b[0;36mrun\u001b[1;34m(main, debug)\u001b[0m\n\u001b[0;32m     31\u001b[0m     \"\"\"\n\u001b[0;32m     32\u001b[0m     \u001b[1;32mif\u001b[0m \u001b[0mevents\u001b[0m\u001b[1;33m.\u001b[0m\u001b[0m_get_running_loop\u001b[0m\u001b[1;33m(\u001b[0m\u001b[1;33m)\u001b[0m \u001b[1;32mis\u001b[0m \u001b[1;32mnot\u001b[0m \u001b[1;32mNone\u001b[0m\u001b[1;33m:\u001b[0m\u001b[1;33m\u001b[0m\u001b[1;33m\u001b[0m\u001b[0m\n\u001b[1;32m---> 33\u001b[1;33m         raise RuntimeError(\n\u001b[0m\u001b[0;32m     34\u001b[0m             \"asyncio.run() cannot be called from a running event loop\")\n\u001b[0;32m     35\u001b[0m \u001b[1;33m\u001b[0m\u001b[0m\n",
      "\u001b[1;31mRuntimeError\u001b[0m: asyncio.run() cannot be called from a running event loop"
     ]
    }
   ],
   "source": [
    "import asyncio\n",
    "\n",
    "async def count():\n",
    "    print(\"One\")\n",
    "    await asyncio.sleep(1)\n",
    "    print(\"Two\")\n",
    "\n",
    "async def main():\n",
    "    await asyncio.gather(count(), count(), count())\n",
    "\n",
    "import time\n",
    "s = time.perf_counter()\n",
    "asyncio.run(main())\n",
    "elapsed = time.perf_counter() - s\n",
    "print(f\" executed in {elapsed:0.2f} seconds.\")"
   ]
  },
  {
   "cell_type": "markdown",
   "id": "179131b6-02a5-459c-857c-f8163029597e",
   "metadata": {},
   "source": [
    "#### There is an event loop running already! Try to get the loop ."
   ]
  },
  {
   "cell_type": "code",
   "execution_count": 23,
   "id": "08d671f7-36b0-4e3d-814f-fc056024ecc1",
   "metadata": {
    "collapsed": true,
    "jupyter": {
     "outputs_hidden": true
    },
    "tags": []
   },
   "outputs": [
    {
     "ename": "RuntimeError",
     "evalue": "This event loop is already running",
     "output_type": "error",
     "traceback": [
      "\u001b[1;31m---------------------------------------------------------------------------\u001b[0m",
      "\u001b[1;31mRuntimeError\u001b[0m                              Traceback (most recent call last)",
      "\u001b[1;32m~\\AppData\\Local\\Temp/ipykernel_25520/4096977538.py\u001b[0m in \u001b[0;36m<module>\u001b[1;34m\u001b[0m\n\u001b[0;32m     12\u001b[0m \u001b[0ms\u001b[0m \u001b[1;33m=\u001b[0m \u001b[0mtime\u001b[0m\u001b[1;33m.\u001b[0m\u001b[0mperf_counter\u001b[0m\u001b[1;33m(\u001b[0m\u001b[1;33m)\u001b[0m\u001b[1;33m\u001b[0m\u001b[1;33m\u001b[0m\u001b[0m\n\u001b[0;32m     13\u001b[0m \u001b[0mloop\u001b[0m \u001b[1;33m=\u001b[0m \u001b[0masyncio\u001b[0m\u001b[1;33m.\u001b[0m\u001b[0mget_event_loop\u001b[0m\u001b[1;33m(\u001b[0m\u001b[1;33m)\u001b[0m\u001b[1;33m\u001b[0m\u001b[1;33m\u001b[0m\u001b[0m\n\u001b[1;32m---> 14\u001b[1;33m \u001b[0mloop\u001b[0m\u001b[1;33m.\u001b[0m\u001b[0mrun_until_complete\u001b[0m\u001b[1;33m(\u001b[0m\u001b[0mmain\u001b[0m\u001b[1;33m(\u001b[0m\u001b[1;33m)\u001b[0m\u001b[1;33m)\u001b[0m\u001b[1;33m\u001b[0m\u001b[1;33m\u001b[0m\u001b[0m\n\u001b[0m\u001b[0;32m     15\u001b[0m \u001b[0melapsed\u001b[0m \u001b[1;33m=\u001b[0m \u001b[0mtime\u001b[0m\u001b[1;33m.\u001b[0m\u001b[0mperf_counter\u001b[0m\u001b[1;33m(\u001b[0m\u001b[1;33m)\u001b[0m \u001b[1;33m-\u001b[0m \u001b[0ms\u001b[0m\u001b[1;33m\u001b[0m\u001b[1;33m\u001b[0m\u001b[0m\n\u001b[0;32m     16\u001b[0m \u001b[0mprint\u001b[0m\u001b[1;33m(\u001b[0m\u001b[1;34mf\" executed in {elapsed:0.2f} seconds.\"\u001b[0m\u001b[1;33m)\u001b[0m\u001b[1;33m\u001b[0m\u001b[1;33m\u001b[0m\u001b[0m\n",
      "\u001b[1;32m~\\anaconda3\\lib\\asyncio\\base_events.py\u001b[0m in \u001b[0;36mrun_until_complete\u001b[1;34m(self, future)\u001b[0m\n\u001b[0;32m    616\u001b[0m         \"\"\"\n\u001b[0;32m    617\u001b[0m         \u001b[0mself\u001b[0m\u001b[1;33m.\u001b[0m\u001b[0m_check_closed\u001b[0m\u001b[1;33m(\u001b[0m\u001b[1;33m)\u001b[0m\u001b[1;33m\u001b[0m\u001b[1;33m\u001b[0m\u001b[0m\n\u001b[1;32m--> 618\u001b[1;33m         \u001b[0mself\u001b[0m\u001b[1;33m.\u001b[0m\u001b[0m_check_running\u001b[0m\u001b[1;33m(\u001b[0m\u001b[1;33m)\u001b[0m\u001b[1;33m\u001b[0m\u001b[1;33m\u001b[0m\u001b[0m\n\u001b[0m\u001b[0;32m    619\u001b[0m \u001b[1;33m\u001b[0m\u001b[0m\n\u001b[0;32m    620\u001b[0m         \u001b[0mnew_task\u001b[0m \u001b[1;33m=\u001b[0m \u001b[1;32mnot\u001b[0m \u001b[0mfutures\u001b[0m\u001b[1;33m.\u001b[0m\u001b[0misfuture\u001b[0m\u001b[1;33m(\u001b[0m\u001b[0mfuture\u001b[0m\u001b[1;33m)\u001b[0m\u001b[1;33m\u001b[0m\u001b[1;33m\u001b[0m\u001b[0m\n",
      "\u001b[1;32m~\\anaconda3\\lib\\asyncio\\base_events.py\u001b[0m in \u001b[0;36m_check_running\u001b[1;34m(self)\u001b[0m\n\u001b[0;32m    576\u001b[0m     \u001b[1;32mdef\u001b[0m \u001b[0m_check_running\u001b[0m\u001b[1;33m(\u001b[0m\u001b[0mself\u001b[0m\u001b[1;33m)\u001b[0m\u001b[1;33m:\u001b[0m\u001b[1;33m\u001b[0m\u001b[1;33m\u001b[0m\u001b[0m\n\u001b[0;32m    577\u001b[0m         \u001b[1;32mif\u001b[0m \u001b[0mself\u001b[0m\u001b[1;33m.\u001b[0m\u001b[0mis_running\u001b[0m\u001b[1;33m(\u001b[0m\u001b[1;33m)\u001b[0m\u001b[1;33m:\u001b[0m\u001b[1;33m\u001b[0m\u001b[1;33m\u001b[0m\u001b[0m\n\u001b[1;32m--> 578\u001b[1;33m             \u001b[1;32mraise\u001b[0m \u001b[0mRuntimeError\u001b[0m\u001b[1;33m(\u001b[0m\u001b[1;34m'This event loop is already running'\u001b[0m\u001b[1;33m)\u001b[0m\u001b[1;33m\u001b[0m\u001b[1;33m\u001b[0m\u001b[0m\n\u001b[0m\u001b[0;32m    579\u001b[0m         \u001b[1;32mif\u001b[0m \u001b[0mevents\u001b[0m\u001b[1;33m.\u001b[0m\u001b[0m_get_running_loop\u001b[0m\u001b[1;33m(\u001b[0m\u001b[1;33m)\u001b[0m \u001b[1;32mis\u001b[0m \u001b[1;32mnot\u001b[0m \u001b[1;32mNone\u001b[0m\u001b[1;33m:\u001b[0m\u001b[1;33m\u001b[0m\u001b[1;33m\u001b[0m\u001b[0m\n\u001b[0;32m    580\u001b[0m             raise RuntimeError(\n",
      "\u001b[1;31mRuntimeError\u001b[0m: This event loop is already running"
     ]
    }
   ],
   "source": [
    "import asyncio\n",
    "\n",
    "async def count():\n",
    "    print(\"One\")\n",
    "    await asyncio.sleep(1)\n",
    "    print(\"Two\")\n",
    "\n",
    "async def main():\n",
    "    await asyncio.gather(count(), count(), count())\n",
    "\n",
    "import time\n",
    "s = time.perf_counter()\n",
    "loop = asyncio.get_event_loop()\n",
    "loop.run_until_complete(main())\n",
    "elapsed = time.perf_counter() - s\n",
    "print(f\" executed in {elapsed:0.2f} seconds.\")"
   ]
  },
  {
   "cell_type": "markdown",
   "id": "f5ebf1ce-5258-4ed8-88aa-bfeee3cccd72",
   "metadata": {},
   "source": [
    "### Aah! How can you run a a running loop?"
   ]
  },
  {
   "cell_type": "markdown",
   "id": "a34e3778-6534-49df-adb1-401900d9d37d",
   "metadata": {},
   "source": [
    "### Try running main() using await"
   ]
  },
  {
   "cell_type": "code",
   "execution_count": 18,
   "id": "91b8c200-66ce-4ef5-b3d4-5fb2147e3d34",
   "metadata": {},
   "outputs": [
    {
     "name": "stdout",
     "output_type": "stream",
     "text": [
      "One\n",
      "One\n",
      "One\n",
      "Two\n",
      "Two\n",
      "Two\n",
      " executed in 0.99 seconds.\n"
     ]
    }
   ],
   "source": [
    "import asyncio\n",
    "\n",
    "async def count():\n",
    "    print(\"One\")\n",
    "    await asyncio.sleep(1)\n",
    "    print(\"Two\")\n",
    "\n",
    "async def main():\n",
    "    await asyncio.gather(count(), count(), count())\n",
    "\n",
    "import time\n",
    "s = time.perf_counter()\n",
    "loop = asyncio.get_event_loop()\n",
    "await main()\n",
    "elapsed = time.perf_counter() - s\n",
    "print(f\" executed in {elapsed:0.2f} seconds.\")"
   ]
  },
  {
   "cell_type": "markdown",
   "id": "f5372dda-136c-46dc-a8ad-9cb86cb50d27",
   "metadata": {},
   "source": [
    "### Now try loop.create_task"
   ]
  },
  {
   "cell_type": "code",
   "execution_count": 14,
   "id": "781b9eb9-41f8-45a8-90e5-c27b087fe539",
   "metadata": {},
   "outputs": [
    {
     "name": "stdout",
     "output_type": "stream",
     "text": [
      " executed in 0.00 seconds.\n",
      "One\n",
      "One\n",
      "One\n",
      "Two\n",
      "Two\n",
      "Two\n"
     ]
    }
   ],
   "source": [
    "import asyncio\n",
    "\n",
    "async def count():\n",
    "    print(\"One\")\n",
    "    await asyncio.sleep(1)\n",
    "    print(\"Two\")\n",
    "\n",
    "async def main():\n",
    "    await asyncio.gather(count(), count(), count())\n",
    "\n",
    "import time\n",
    "s = time.perf_counter()\n",
    "loop = asyncio.get_event_loop()\n",
    "loop.create_task(main())\n",
    "elapsed = time.perf_counter() - s\n",
    "print(f\" executed in {elapsed:0.2f} seconds.\")"
   ]
  },
  {
   "cell_type": "markdown",
   "id": "6ab30613-1ec1-4a8d-bce8-923728f54207",
   "metadata": {},
   "source": [
    "### Notice that create task has run the main method in the BACKGROUND unlike ```await main()```"
   ]
  },
  {
   "cell_type": "code",
   "execution_count": 32,
   "id": "f83f85b4-be5e-4b0d-a385-5abd6e0096ae",
   "metadata": {},
   "outputs": [
    {
     "name": "stdout",
     "output_type": "stream",
     "text": [
      "Type of t : <class '_asyncio.Task'>\n",
      "One\n",
      "One\n",
      "One\n",
      "Two\n",
      "Two\n",
      "Two\n",
      "executed in 1.02 seconds.\n"
     ]
    }
   ],
   "source": [
    "import asyncio\n",
    "\n",
    "async def count():\n",
    "    print(\"One\")\n",
    "    await asyncio.sleep(1)\n",
    "    print(\"Two\")\n",
    "\n",
    "async def main():\n",
    "    await asyncio.gather(count(), count(), count())\n",
    "\n",
    "import time\n",
    "s = time.perf_counter()\n",
    "loop = asyncio.get_event_loop()\n",
    "t = loop.create_task(main())\n",
    "print(f\"Type of t : {type(t)}\")\n",
    "await t\n",
    "elapsed = time.perf_counter() - s\n",
    "print(f\"executed in {elapsed:0.2f} seconds.\")"
   ]
  },
  {
   "cell_type": "markdown",
   "id": "7613662e-19fa-49a7-996b-3fcc48b2f845",
   "metadata": {},
   "source": [
    "## What does asyncio.gather do?\n",
    "\n",
    "\"While it doesn’t do anything tremendously special, gather() is meant to neatly put a collection of coroutines (futures) into a single future. As a result, it returns a single future object, and, if you await asyncio.gather() and specify multiple tasks or coroutines, you’re waiting for all of them to be completed.\"\n",
    "\n",
    "So this should work the same:"
   ]
  },
  {
   "cell_type": "code",
   "execution_count": 39,
   "id": "472351a9-c70f-4f1a-9aba-e91079202c5f",
   "metadata": {},
   "outputs": [
    {
     "name": "stdout",
     "output_type": "stream",
     "text": [
      "Type of t : <class '_asyncio.Task'>\n",
      "Type of g : <class 'asyncio.tasks._GatheringFuture'>\n",
      "One\n",
      "One\n",
      "One\n",
      "Two\n",
      "Two\n",
      "Two\n",
      "executed in 1.01 seconds.\n"
     ]
    }
   ],
   "source": [
    "import asyncio\n",
    "\n",
    "async def count():\n",
    "    print(\"One\")\n",
    "    await asyncio.sleep(1)\n",
    "    print(\"Two\")\n",
    "\n",
    "async def main():\n",
    "    g = asyncio.gather(count(), count(), count())\n",
    "    print(f\"Type of g : {type(g)}\")\n",
    "    await(g)\n",
    "\n",
    "import time\n",
    "s = time.perf_counter()\n",
    "loop = asyncio.get_event_loop()\n",
    "t = loop.create_task(main())\n",
    "print(f\"Type of t : {type(t)}\")\n",
    "await t\n",
    "elapsed = time.perf_counter() - s\n",
    "print(f\"executed in {elapsed:0.2f} seconds.\")"
   ]
  },
  {
   "cell_type": "markdown",
   "id": "81c61ceb-928f-4c1b-b78e-20eb6f6b1ab0",
   "metadata": {},
   "source": [
    "And so should this :"
   ]
  },
  {
   "cell_type": "code",
   "execution_count": 35,
   "id": "06bf471a-3e91-40e5-8246-caa6799b7acb",
   "metadata": {},
   "outputs": [
    {
     "name": "stdout",
     "output_type": "stream",
     "text": [
      "Type of f : <class 'asyncio.tasks._GatheringFuture'>\n",
      "Type of g : <class 'asyncio.tasks._GatheringFuture'>\n",
      "One\n",
      "One\n",
      "One\n",
      "Two\n",
      "Two\n",
      "Two\n",
      "executed in 1.02 seconds.\n"
     ]
    }
   ],
   "source": [
    "import asyncio\n",
    "\n",
    "async def count():\n",
    "    print(\"One\")\n",
    "    await asyncio.sleep(1)\n",
    "    print(\"Two\")\n",
    "\n",
    "async def main():\n",
    "    g = asyncio.gather(count(), count(), count())\n",
    "    print(f\"Type of g : {type(g)}\")\n",
    "    await(g)\n",
    "\n",
    "import time\n",
    "s = time.perf_counter()\n",
    "loop = asyncio.get_event_loop()\n",
    "f = asyncio.gather(main())\n",
    "print(f\"Type of f : {type(f)}\")\n",
    "await f\n",
    "elapsed = time.perf_counter() - s\n",
    "print(f\"executed in {elapsed:0.2f} seconds.\")"
   ]
  },
  {
   "cell_type": "code",
   "execution_count": null,
   "id": "b1adea39-54fc-48c7-b279-e2d929a4ad1f",
   "metadata": {},
   "outputs": [],
   "source": [
    "And so should this :"
   ]
  },
  {
   "cell_type": "code",
   "execution_count": 41,
   "id": "533c2ef9-5cab-494c-8eb7-145b9642a30e",
   "metadata": {
    "tags": []
   },
   "outputs": [
    {
     "name": "stdout",
     "output_type": "stream",
     "text": [
      "Type of f : <class 'asyncio.tasks._GatheringFuture'>\n",
      "executed in 0.00 seconds.\n",
      "Type of g : <class 'asyncio.tasks._GatheringFuture'>\n",
      "One\n",
      "One\n",
      "One\n",
      "Two\n",
      "Two\n",
      "Two\n"
     ]
    }
   ],
   "source": [
    "import asyncio\n",
    "\n",
    "async def count():\n",
    "    print(\"One\")\n",
    "    await asyncio.sleep(1)\n",
    "    print(\"Two\")\n",
    "\n",
    "async def main():\n",
    "    g = asyncio.gather(count(), count(), count())\n",
    "    print(f\"Type of g : {type(g)}\")\n",
    "    #await(g)\n",
    "\n",
    "import time\n",
    "s = time.perf_counter()\n",
    "loop = asyncio.get_event_loop()\n",
    "f = asyncio.gather(main())\n",
    "#await f\n",
    "print(f\"Type of f : {type(f)}\")\n",
    "elapsed = time.perf_counter() - s\n",
    "print(f\"executed in {elapsed:0.2f} seconds.\")"
   ]
  },
  {
   "cell_type": "markdown",
   "id": "a7c74615-ad43-44a6-9228-288b13d8d8f3",
   "metadata": {},
   "source": [
    "Seems like asyncio.gather also runs your coroutines in the background. You don't have to await it?"
   ]
  },
  {
   "cell_type": "code",
   "execution_count": null,
   "id": "2c44d49a-c5d5-481a-b739-d7145b40d239",
   "metadata": {},
   "outputs": [],
   "source": [
    "import asyncio\n",
    "\n",
    "async def count():\n",
    "    print(\"One\")\n",
    "    await asyncio.sleep(1)\n",
    "    print(\"Two\")\n",
    "\n",
    "async def main():\n",
    "    await asyncio.gather(count(), count(), count())\n",
    "\n",
    "import time\n",
    "s = time.perf_counter()\n",
    "loop = asyncio.get_event_loop()\n",
    "await main()\n",
    "elapsed = time.perf_counter() - s\n",
    "print(f\" executed in {elapsed:0.2f} seconds.\")"
   ]
  },
  {
   "cell_type": "markdown",
   "id": "669ee48e-a006-43bf-9dd5-7576b9a4a898",
   "metadata": {
    "tags": []
   },
   "source": [
    "### Read this at this point \n",
    "\n",
    "https://hynek.me/articles/waiting-in-asyncio/\n",
    "\n",
    "https://stackoverflow.com/questions/55590343/asyncio-run-or-run-until-complete"
   ]
  },
  {
   "cell_type": "markdown",
   "id": "a92edf73-0cc5-4250-9407-fbabfdab96f4",
   "metadata": {},
   "source": [
    "### Also this\n",
    "\n",
    "https://bbc.github.io/cloudfit-public-docs/asyncio/asyncio-part-2\n",
    "\n",
    "#### Manual event loop interaction\n",
    "\n",
    "If you’re using Python 3.6, and you need to run coroutines from ordinary sync code (which you probably will, if you want to start something.) then you will need to start the event loop. There are two methods for doing this:\n",
    "\n",
    "asyncio.get_event_loop().run_forever()\n",
    "will cause the event loop to run forever (or until explicitly killed). This isn’t usually particularly useful. Much more useful is:\n",
    "\n",
    "r = asyncio.get_event_loop().run_until_complete(f)\n",
    "which takes a single parameter. If the parameter is a future (such as a task) then the loop will be run until the future is done, returning its result or raising its exception. So putting it together:\n",
    "\n",
    "async def example_coroutine_function():\n",
    "    ...\n",
    "\n",
    "loop = asyncio.get_event_loop()\n",
    "t = loop.create_task(example_coroutine_function())\n",
    "r = loop.run_until_complete(t)\n",
    "will create a new task which executes example_coroutine_function inside the event loop until it finishes, and then return the result.\n",
    "\n",
    "In fact this can be simplified further since if you pass a coroutine object as the parameter to run_until_complete then it automatically calls create_task for you.\n",
    "\n"
   ]
  },
  {
   "cell_type": "markdown",
   "id": "7320fc41-fdca-4353-9c9b-772f70cc11f6",
   "metadata": {},
   "source": [
    "### Also this\n",
    "https://stackoverflow.com/questions/64851715/python-asyncio-future-vs-task#:~:text=In%20short%2C%20future%20is%20the,in%20fact%20strongly%20single%2Dthreaded.\n",
    "\n",
    "Also, be careful not to confuse asyncio futures with concurrent.futures futures, the latter being indeed multi-threaded. Despite similarities in the API coming from the fact that asyncio futures were inspired by the ones from concurrent.futures, they work in conceptually different ways and cannot be used interchangeably.\n",
    "\n",
    "\n",
    "An ordinary future is useful to connect callbacks, like JS promises. In particular it serves as bridge between callbacks and coroutines. You can create a future and pass it to a callback which will later invoke fut.set_result(x). A coroutine can await it in the meantime (or await several such futures with gather() etc.) When the callback completes the future, the coroutine that awaited it gets resumed and await <future> gets evaluated to the x the callback passed to set_result(). Asyncio plumbing code, the transports and protocols layer, is all written in this style."
   ]
  },
  {
   "cell_type": "code",
   "execution_count": null,
   "id": "0a20c06f-de9f-45eb-a090-f3faa05a6be0",
   "metadata": {},
   "outputs": [],
   "source": []
  }
 ],
 "metadata": {
  "kernelspec": {
   "display_name": "Python 3 (ipykernel)",
   "language": "python",
   "name": "python3"
  },
  "language_info": {
   "codemirror_mode": {
    "name": "ipython",
    "version": 3
   },
   "file_extension": ".py",
   "mimetype": "text/x-python",
   "name": "python",
   "nbconvert_exporter": "python",
   "pygments_lexer": "ipython3",
   "version": "3.9.7"
  }
 },
 "nbformat": 4,
 "nbformat_minor": 5
}
